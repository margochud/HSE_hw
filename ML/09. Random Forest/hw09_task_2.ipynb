{
 "cells": [
  {
   "cell_type": "markdown",
   "metadata": {
    "id": "kxs2-KrwXHIJ"
   },
   "source": [
    "# Случайные леса\n",
    "__Суммарное количество баллов: 10__\n",
    "\n",
    "__Решение отправлять на `ml.course.practice@gmail.com`__\n",
    "\n",
    "__Тема письма: `[HSE][ML][MS][HW09] <ФИ>`, где вместо `<ФИ>` указаны фамилия и имя__\n",
    "\n",
    "В этом задании вам предстоит реализовать ансамбль деревьев решений, известный как случайный лес, применить его к публичным данным пользователей социальной сети Вконтакте, и сравнить его эффективность с ансамблем, предоставляемым библиотекой CatBoost.\n",
    "\n",
    "В результате мы сможем определить, какие подписки пользователей больше всего влияют на определение возраста и пола человека. "
   ]
  },
  {
   "cell_type": "code",
   "execution_count": 2,
   "metadata": {
    "id": "igibYsAlXHIN"
   },
   "outputs": [],
   "source": [
    "from sklearn.model_selection import train_test_split\n",
    "import numpy as np\n",
    "from sklearn import preprocessing\n",
    "import pandas\n",
    "import random\n",
    "from sklearn.metrics import accuracy_score\n",
    "import matplotlib.pyplot as plt\n",
    "import matplotlib\n",
    "import copy\n",
    "from catboost import CatBoostClassifier\n",
    "from typing import Callable, Union, NoReturn, Optional, Dict, Any, List"
   ]
  },
  {
   "cell_type": "markdown",
   "metadata": {
    "id": "NL0piKVuXHIP"
   },
   "source": [
    "### Задание 1 (2 балла)\n",
    "Random Forest состоит из деревьев решений. Каждое такое дерево строится на одной из выборок, полученных при помощи bagging. Элементы, которые не вошли в новую обучающую выборку, образуют out-of-bag выборку. Кроме того, в каждом узле дерева мы случайным образом выбираем набор из `max_features` и ищем признак для предиката разбиения только в этом наборе.\n",
    "\n",
    "Сегодня мы будем работать только с бинарными признаками, поэтому нет необходимости выбирать значение признака для разбиения.\n",
    "\n",
    "#### Методы\n",
    "`predict(X)` - возвращает предсказанные метки для элементов выборки `X`\n",
    "\n",
    "#### Параметры конструктора\n",
    "`X, y` - обучающая выборка и соответствующие ей метки классов. Из нее нужно получить выборку для построения дерева при помощи bagging. Out-of-bag выборку нужно запомнить, она понадобится потом.\n",
    "\n",
    "`criterion=\"gini\"` - задает критерий, который будет использоваться при построении дерева. Возможные значения: `\"gini\"`, `\"entropy\"`.\n",
    "\n",
    "`max_depth=None` - ограничение глубины дерева. Если `None` - глубина не ограничена\n",
    "\n",
    "`min_samples_leaf=1` - минимальное количество элементов в каждом листе дерева.\n",
    "\n",
    "`max_features=\"auto\"` - количество признаков, которые могут использоваться в узле. Если `\"auto\"` - равно `sqrt(X.shape[1])`"
   ]
  },
  {
   "cell_type": "code",
   "execution_count": 3,
   "metadata": {
    "id": "u3nZDhW3XHIO"
   },
   "outputs": [],
   "source": [
    "def gini(x: np.ndarray):\n",
    "    \"\"\"\n",
    "    Считает коэффициент Джини для массива меток x.\n",
    "    \"\"\"\n",
    "    n = len(x)\n",
    "    _, probs = np.unique(x, return_counts=True)\n",
    "    probs = probs/n\n",
    "    return np.sum(probs*(1-probs))\n",
    "\n",
    "def entropy(x: np.ndarray):\n",
    "    \"\"\"\n",
    "    Считает энтропию для массива меток x.\n",
    "    \"\"\"\n",
    "    n = len(x)\n",
    "    _, probs = np.unique(x, return_counts=True)\n",
    "    probs = probs/n\n",
    "    return -np.sum(probs*np.log2(probs))\n",
    "\n",
    "def gain(left_y: np.ndarray, right_y: np.ndarray, criterion: Callable):\n",
    "    \"\"\"\n",
    "    Считает информативность разбиения массива меток.\n",
    "\n",
    "    Parameters\n",
    "    ----------\n",
    "    left_y : np.ndarray\n",
    "        Левая часть разбиения.\n",
    "    right_y : np.ndarray\n",
    "        Правая часть разбиения.\n",
    "    criterion : Callable\n",
    "        Критерий разбиения.\n",
    "    \"\"\"\n",
    "    i_total = criterion(np.hstack((left_y, right_y)))\n",
    "    i_left = criterion(left_y)\n",
    "    i_right = criterion(right_y)\n",
    "\n",
    "    ig = i_total - (i_left*len(left_y)+ i_right*len(right_y))\n",
    "    return ig"
   ]
  },
  {
   "cell_type": "code",
   "execution_count": 4,
   "outputs": [],
   "source": [
    "def bagging(X, y):\n",
    "    n = X.shape[0]\n",
    "    num = np.arange(n)\n",
    "    mask_bag = np.random.choice(num, size=n)\n",
    "    mask_oob = ~np.in1d(num, mask_bag)\n",
    "    return (X[mask_bag], y[mask_bag]), (X[mask_oob], y[mask_oob])\n"
   ],
   "metadata": {
    "collapsed": false,
    "pycharm": {
     "name": "#%%\n"
    }
   }
  },
  {
   "cell_type": "code",
   "execution_count": 5,
   "outputs": [],
   "source": [
    "class DecisionTreeLeaf:\n",
    "    \"\"\"\n",
    "\n",
    "    Attributes\n",
    "    ----------\n",
    "    y : Тип метки (напр., int или str)\n",
    "        Метка класса, который встречается чаще всего среди элементов листа дерева\n",
    "    prob: dict\n",
    "        словарь вероятностей меток\n",
    "    \"\"\"\n",
    "    def __init__(self, y_leaf):\n",
    "        classes, freq = np.unique(y_leaf, return_counts=True)\n",
    "        self.y = classes[np.argmax(freq)]\n",
    "        self.prob = {classes[i]: freq[i]/len(y_leaf) for i in range(len(classes))}\n",
    "\n",
    "\n",
    "class DecisionTreeNode:\n",
    "    \"\"\"\n",
    "\n",
    "    Attributes\n",
    "    ----------\n",
    "    split_dim : int\n",
    "        Измерение, по которому разбиваем выборку.\n",
    "    split_value : float\n",
    "        Значение, по которому разбираем выборку.\n",
    "    left : Union[DecisionTreeNode, DecisionTreeLeaf]\n",
    "        Поддерево, отвечающее за случай x[split_dim] < split_value.\n",
    "    right : Union[DecisionTreeNode, DecisionTreeLeaf]\n",
    "        Поддерево, отвечающее за случай x[split_dim] >= split_value.\n",
    "    \"\"\"\n",
    "    def __init__(self, split_dim: int, split_value: float,\n",
    "                 left: Union['DecisionTreeNode', DecisionTreeLeaf],\n",
    "                 right: Union['DecisionTreeNode', DecisionTreeLeaf]):\n",
    "        self.split_dim = split_dim\n",
    "        self.split_value = split_value\n",
    "        self.left = left\n",
    "        self.right = right"
   ],
   "metadata": {
    "collapsed": false,
    "pycharm": {
     "name": "#%%\n"
    }
   }
  },
  {
   "cell_type": "code",
   "execution_count": 6,
   "outputs": [],
   "source": [
    "class DecisionTreeClassifier:\n",
    "    \"\"\"\n",
    "    Attributes\n",
    "    ----------\n",
    "    root : Union[DecisionTreeNode, DecisionTreeLeaf]\n",
    "        Корень дерева.\n",
    "\n",
    "    (можете добавлять в класс другие аттрибуты).\n",
    "\n",
    "    \"\"\"\n",
    "    def __init__(self, X, y, criterion=\"gini\", max_depth=None, min_samples_leaf=1, max_features=\"auto\"):\n",
    "        \"\"\"\n",
    "        Parameters\n",
    "        ----------\n",
    "        criterion : str\n",
    "            Задает критерий, который будет использоваться при построении дерева.\n",
    "            Возможные значения: \"gini\", \"entropy\".\n",
    "        max_depth : Optional[int]\n",
    "            Ограничение глубины дерева. Если None - глубина не ограничена.\n",
    "        min_samples_leaf : int\n",
    "            Минимальное количество элементов в каждом листе дерева.\n",
    "\n",
    "        \"\"\"\n",
    "        self.root = None\n",
    "        if criterion == \"gini\":\n",
    "            self.criterion = gini\n",
    "        else:\n",
    "            self.criterion = entropy\n",
    "        self.max_depth = max_depth\n",
    "        self.min_samples_leaf = min_samples_leaf\n",
    "        self.max_features = int(np.sqrt(X.shape[1])) if max_features == \"auto\" else max_features\n",
    "        self.bag, self.oob = bagging(X, y)\n",
    "\n",
    "    def fit(self) -> NoReturn:\n",
    "        \"\"\"\n",
    "        Строит дерево решений по обучающей выборке.\n",
    "\n",
    "        Parameters\n",
    "        ----------\n",
    "        X : np.ndarray\n",
    "            Обучающая выборка.\n",
    "        y : np.ndarray\n",
    "            Вектор меток классов.\n",
    "        \"\"\"\n",
    "        X, y = self.bag\n",
    "        self.root = self.build(X, y, depth=0)\n",
    "\n",
    "    def build(self, X, y, depth):\n",
    "\n",
    "        max_gain = -float(\"inf\")\n",
    "        best_feature = None\n",
    "        f = np.random.choice(X.shape[1], size=self.max_features, replace=False)\n",
    "        for feature in f:\n",
    "            right_mask = X[:, feature] == 1\n",
    "            left_mask = X[:, feature] == 0\n",
    "            cur_gain = gain(y[left_mask], y[right_mask], self.criterion)\n",
    "\n",
    "            if max_gain < cur_gain:\n",
    "                max_gain, best_feature = cur_gain, feature\n",
    "\n",
    "        right_mask = X[:, best_feature] == 1\n",
    "        left_mask = X[:, best_feature] == 0\n",
    "\n",
    "        if depth == self.max_depth or np.sum(left_mask)<= self.min_samples_leaf or np.sum(right_mask) <= self.min_samples_leaf:\n",
    "            return DecisionTreeLeaf(y)\n",
    "\n",
    "        left = self.build(X[left_mask], y[left_mask], depth=depth+1)\n",
    "        right = self.build(X[right_mask], y[right_mask], depth=depth+1)\n",
    "\n",
    "        return DecisionTreeNode(split_dim=best_feature, split_value=1,\n",
    "                 left=left,\n",
    "                 right=right)\n",
    "\n",
    "\n",
    "    def predict_proba(self, X: np.ndarray) ->  List[Dict[Any, float]]:\n",
    "        \"\"\"\n",
    "        Предсказывает вероятность классов для элементов из X.\n",
    "\n",
    "        Parameters\n",
    "        ----------\n",
    "        X : np.ndarray\n",
    "            Элементы для предсказания.\n",
    "\n",
    "        Return\n",
    "        ------\n",
    "        List[Dict[Any, float]]\n",
    "            Для каждого элемента из X возвращает словарь\n",
    "            {метка класса -> вероятность класса}.\n",
    "        \"\"\"\n",
    "        res = []\n",
    "        for x in X:\n",
    "            node = self.root\n",
    "            while not isinstance(node, DecisionTreeLeaf):\n",
    "                if x[node.split_dim] < node.split_value:\n",
    "\n",
    "                    node = node.left\n",
    "                else:\n",
    "                    node = node.right\n",
    "            res.append(node.prob)\n",
    "        return res\n",
    "\n",
    "    def predict(self, X : np.ndarray) -> list:\n",
    "        \"\"\"\n",
    "        Предсказывает классы для элементов X.\n",
    "\n",
    "        Parameters\n",
    "        ----------\n",
    "        X : np.ndarray\n",
    "            Элементы для предсказания.\n",
    "\n",
    "        Return\n",
    "        ------\n",
    "        list\n",
    "            Вектор предсказанных меток для элементов X.\n",
    "        \"\"\"\n",
    "        proba = self.predict_proba(X)\n",
    "        return [max(p.keys(), key=lambda k: p[k]) for p in proba]"
   ],
   "metadata": {
    "collapsed": false,
    "pycharm": {
     "name": "#%%\n"
    }
   }
  },
  {
   "cell_type": "code",
   "execution_count": 7,
   "outputs": [
    {
     "data": {
      "text/plain": "[0, 1, 2, 0, 1, 2, 0, 1, 2, 0, 1, 2, 0, 1, 2, 0, 1, 2, 0, 1]"
     },
     "execution_count": 7,
     "metadata": {},
     "output_type": "execute_result"
    }
   ],
   "source": [
    "def synthetic_dataset(size):\n",
    "    X = [(np.random.randint(0, 2), np.random.randint(0, 2), i % 6 == 3,\n",
    "          i % 6 == 0, i % 3 == 2, np.random.randint(0, 2)) for i in range(size)]\n",
    "    y = [i % 3 for i in range(size)]\n",
    "    return np.array(X), np.array(y)\n",
    "\n",
    "X, y = synthetic_dataset(1000)\n",
    "tr = DecisionTreeClassifier(X, y)\n",
    "tr.fit()\n",
    "\n",
    "tr.predict(X[:20])"
   ],
   "metadata": {
    "collapsed": false,
    "pycharm": {
     "name": "#%%\n"
    }
   }
  },
  {
   "cell_type": "markdown",
   "metadata": {
    "id": "1gShAKrgXHIQ",
    "pycharm": {
     "name": "#%% md\n"
    }
   },
   "source": []
  },
  {
   "cell_type": "markdown",
   "metadata": {
    "id": "QbfDFicaXHIQ"
   },
   "source": [
    "### Задание 2 (2 балла)\n",
    "Теперь реализуем сам Random Forest. Идея очень простая: строим `n` деревьев, а затем берем модальное предсказание.\n",
    "\n",
    "#### Параметры конструктора\n",
    "`n_estimators` - количество используемых для предсказания деревьев.\n",
    "\n",
    "Остальное - параметры деревьев.\n",
    "\n",
    "#### Методы\n",
    "`fit(X, y)` - строит `n_estimators` деревьев по выборке `X`.\n",
    "\n",
    "`predict(X)` - для каждого элемента выборки `X` возвращает самый частый класс, который предсказывают для него деревья."
   ]
  },
  {
   "cell_type": "code",
   "execution_count": 8,
   "metadata": {
    "id": "z8KtlmvBXHIR"
   },
   "outputs": [],
   "source": [
    "class RandomForestClassifier:\n",
    "    def __init__(self, criterion=\"gini\", max_depth=5, min_samples_leaf=5, max_features=\"auto\", n_estimators=10):\n",
    "        #self.criterion = gini if criterion == \"gini\" else entropy\n",
    "        self.criterion = criterion\n",
    "        self.max_depth = max_depth\n",
    "        self.min_samples_leaf = min_samples_leaf\n",
    "        self.max_features = max_features\n",
    "        self.n_estimators = n_estimators\n",
    "        self.trees = []\n",
    "\n",
    "    def fit(self, X, y):\n",
    "        for i in range(self.n_estimators):\n",
    "            tree = DecisionTreeClassifier(X, y, criterion=self.criterion, max_depth=self.max_depth,\n",
    "                                          min_samples_leaf=self.min_samples_leaf, max_features=self.max_features)\n",
    "            tree.fit()\n",
    "            self.trees.append(tree)\n",
    "\n",
    "    def predict(self, X):\n",
    "        self.n_features = X.shape[1]\n",
    "        pred = np.zeros((X.shape[0], self.n_estimators))\n",
    "        for i, clf in enumerate(self.trees):\n",
    "            pred[:, i] = clf.predict(X)\n",
    "        pred = pred.astype(int)\n",
    "        out = np.zeros(X.shape[0])\n",
    "        for i in range(X.shape[0]):\n",
    "            out[i] = np.bincount(pred[i]).argmax()\n",
    "        return out"
   ]
  },
  {
   "cell_type": "markdown",
   "metadata": {
    "id": "b41Wii0_XHIR"
   },
   "source": [
    "### Задание 3 (2 балла)\n",
    "Часто хочется понимать, насколько большую роль играет тот или иной признак для предсказания класса объекта. Есть различные способы посчитать его важность. Один из простых способов сделать это для Random Forest - посчитать out-of-bag ошибку предсказания `err_oob`, а затем перемешать значения признака `j` и посчитать ее (`err_oob_j`) еще раз. Оценкой важности признака `j` для одного дерева будет разность `err_oob_j - err_oob`, важность для всего леса считается как среднее значение важности по деревьям.\n",
    "\n",
    "Реализуйте функцию `feature_importance`, которая принимает на вход Random Forest и возвращает массив, в котором содержится важность для каждого признака."
   ]
  },
  {
   "cell_type": "code",
   "execution_count": 62,
   "metadata": {
    "id": "SEa85EniXHIS"
   },
   "outputs": [],
   "source": [
    "def feature_importance(rfc):\n",
    "    out = np.zeros((rfc.n_estimators, rfc.n_features))\n",
    "    for i, clf in enumerate(rfc.trees):\n",
    "        X = clf.oob[0]\n",
    "        y_true = clf.oob[1]\n",
    "        y_pred = clf.predict(X)\n",
    "        acc = accuracy_score(y_true, y_pred)\n",
    "        for j in range(X.shape[1]):\n",
    "            shuf = np.random.permutation(range(X.shape[0]))\n",
    "            X_new = X.copy()\n",
    "            X_new[:, j] = X[shuf, j]\n",
    "            y_pred_j = clf.predict(X_new)\n",
    "            out[i, j]= abs(accuracy_score(y_true, y_pred_j) - acc)\n",
    "\n",
    "    return np.mean(out, axis=0)\n",
    "\n",
    "\n",
    "def most_important_features(importance, names, k=20):\n",
    "    # Выводит названия k самых важных признаков\n",
    "    idicies = np.argsort(importance)[::-1][:k]\n",
    "    return np.array(names)[idicies]"
   ]
  },
  {
   "cell_type": "markdown",
   "metadata": {
    "id": "w4VS3WDyXHIT"
   },
   "source": [
    "Наконец, пришло время протестировать наше дерево на простом синтетическом наборе данных. В результате точность должна быть примерно равна `1.0`, наибольшее значение важности должно быть у признака с индексом `4`, признаки с индексами `2` и `3`  должны быть одинаково важны, а остальные признаки - не важны совсем."
   ]
  },
  {
   "cell_type": "code",
   "execution_count": 63,
   "metadata": {
    "id": "wDbhPFWIXHIT"
   },
   "outputs": [
    {
     "name": "stdout",
     "output_type": "stream",
     "text": [
      "Accuracy: 1.0\n",
      "Importance: [0.00568852 0.00678685 0.16604101 0.15839098 0.30886129 0.00360354]\n"
     ]
    }
   ],
   "source": [
    "def synthetic_dataset(size):\n",
    "    X = [(np.random.randint(0, 2), np.random.randint(0, 2), i % 6 == 3, \n",
    "          i % 6 == 0, i % 3 == 2, np.random.randint(0, 2)) for i in range(size)]\n",
    "    y = [i % 3 for i in range(size)]\n",
    "    return np.array(X), np.array(y)\n",
    "\n",
    "X, y = synthetic_dataset(1000)\n",
    "rfc = RandomForestClassifier(n_estimators=100)\n",
    "rfc.fit(X, y)\n",
    "print(\"Accuracy:\", np.mean(rfc.predict(X) == y))\n",
    "print(\"Importance:\", feature_importance(rfc))"
   ]
  },
  {
   "cell_type": "markdown",
   "metadata": {
    "id": "JQSKeGmoXHIT"
   },
   "source": [
    "### Задание 4 (1 балл)\n",
    "Теперь поработаем с реальными данными.\n",
    "\n",
    "Выборка состоит из публичных анонимизированных данных пользователей социальной сети Вконтакте. Первые два столбца отражают возрастную группу (`zoomer`, `doomer` и `boomer`) и пол (`female`, `male`). Все остальные столбцы являются бинарными признаками, каждый из них определяет, подписан ли пользователь на определенную группу/публичную страницу или нет.\\\n",
    "\\\n",
    "Необходимо обучить два классификатора, один из которых определяет возрастную группу, а второй - пол.\\\n",
    "\\\n",
    "Эксперименты с множеством используемых признаков и подбор гиперпараметров приветствуются. Лес должен строиться за какое-то разумное время."
   ]
  },
  {
   "cell_type": "code",
   "execution_count": 64,
   "metadata": {
    "id": "xA1GfFJMXHIU"
   },
   "outputs": [],
   "source": [
    "def read_dataset(path):\n",
    "    dataframe = pandas.read_csv(path, header=0)\n",
    "    dataset = dataframe.values.tolist()\n",
    "    random.shuffle(dataset)\n",
    "    y_age = [row[0] for row in dataset]\n",
    "    y_sex = [row[1] for row in dataset]\n",
    "    X = [row[2:] for row in dataset]\n",
    "    \n",
    "    return np.array(X), np.array(y_age), np.array(y_sex), list(dataframe.columns)[2:]"
   ]
  },
  {
   "cell_type": "code",
   "execution_count": 65,
   "metadata": {
    "id": "qYKHUy7gXHIU"
   },
   "outputs": [],
   "source": [
    "X, y_age, y_sex, features = read_dataset(\"vk.csv\")\n",
    "y_age = preprocessing.LabelEncoder().fit_transform(y_age)\n",
    "y_sex = preprocessing.LabelEncoder().fit_transform(y_sex)\n",
    "X_train, X_test, y_age_train, y_age_test, y_sex_train, y_sex_test = train_test_split(X, y_age, y_sex, train_size=0.9)"
   ]
  },
  {
   "cell_type": "markdown",
   "metadata": {
    "id": "eKVys5RMXHIU"
   },
   "source": [
    "#### Возраст"
   ]
  },
  {
   "cell_type": "code",
   "execution_count": 66,
   "metadata": {
    "id": "LYUV5yZHXHIU"
   },
   "outputs": [
    {
     "name": "stdout",
     "output_type": "stream",
     "text": [
      "Accuracy: 0.575031525851198\n",
      "Most important features:\n",
      "1. mudakoff\n",
      "2. styd.pozor\n",
      "3. 4ch\n",
      "4. rhymes\n",
      "5. pixel_stickers\n",
      "6. reflexia_our_feelings\n",
      "7. pravdashowtop\n",
      "8. memeboizz\n",
      "9. dayvinchik\n",
      "10. ovsyanochan\n",
      "11. ohhluul\n",
      "12. i_d_t\n",
      "13. ebashproklatie\n",
      "14. thesmolny\n",
      "15. webmland\n",
      "16. nenormalnoo\n",
      "17. pustota_diary\n",
      "18. cook_bon\n",
      "19. iloveu01\n",
      "20. webestano\n"
     ]
    }
   ],
   "source": [
    "rfc = RandomForestClassifier(n_estimators=10)\n",
    "\n",
    "rfc.fit(X_train, y_age_train)\n",
    "print(\"Accuracy:\", np.mean(rfc.predict(X_test) == y_age_test))\n",
    "print(\"Most important features:\")\n",
    "for i, name in enumerate(most_important_features(feature_importance(rfc), features, 20)):\n",
    "    print(str(i+1) + \".\", name)"
   ]
  },
  {
   "cell_type": "markdown",
   "metadata": {
    "id": "wJuzLuVYXHIV"
   },
   "source": [
    "#### Пол"
   ]
  },
  {
   "cell_type": "code",
   "execution_count": 16,
   "metadata": {
    "id": "rBGU4dQ_XHIV"
   },
   "outputs": [
    {
     "name": "stdout",
     "output_type": "stream",
     "text": [
      "Accuracy: 0.755359394703657\n",
      "Most important features:\n",
      "1. igm\n",
      "2. 9o_6o_9o\n",
      "3. 4ch\n",
      "4. mudakoff\n",
      "5. academyofman\n",
      "6. cook_good\n",
      "7. zerofat\n",
      "8. woman.blog\n",
      "9. 40kg\n",
      "10. be.beauty\n",
      "11. modnailru\n",
      "12. i_d_t\n",
      "13. rapnewrap\n",
      "14. sh.cook\n",
      "15. vinevinevine\n",
      "16. reflexia_our_feelings\n",
      "17. staaywithmee\n",
      "18. be.women\n",
      "19. beauty\n",
      "20. great.food\n"
     ]
    }
   ],
   "source": [
    "rfc = RandomForestClassifier(n_estimators=10)\n",
    "rfc.fit(X_train, y_sex_train)\n",
    "print(\"Accuracy:\", np.mean(rfc.predict(X_test) == y_sex_test))\n",
    "print(\"Most important features:\")\n",
    "for i, name in enumerate(most_important_features(feature_importance(rfc), features, 20)):\n",
    "    print(str(i+1) + \".\", name)"
   ]
  },
  {
   "cell_type": "markdown",
   "metadata": {
    "id": "zOO-Lk_0XHIV"
   },
   "source": [
    "### CatBoost\n",
    "В качестве аьтернативы попробуем CatBoost. \n",
    "\n",
    "Устаниовить его можно просто с помощью `pip install catboost`. Туториалы можно найти, например, [здесь](https://catboost.ai/docs/concepts/python-usages-examples.html#multiclassification) и [здесь](https://github.com/catboost/tutorials/blob/master/python_tutorial.ipynb). Главное - не забудьте использовать `loss_function='MultiClass'`.\\\n",
    "\\\n",
    "Сначала протестируйте CatBoost на синтетических данных. Выведите точность и важность признаков."
   ]
  },
  {
   "cell_type": "code",
   "execution_count": 56,
   "outputs": [],
   "source": [
    "rfc = CatBoostClassifier(\n",
    "    logging_level='Silent',\n",
    "    custom_loss=['Accuracy'],\n",
    "    loss_function='MultiClass',\n",
    "    use_best_model=True\n",
    ")"
   ],
   "metadata": {
    "collapsed": false,
    "pycharm": {
     "name": "#%%\n"
    }
   }
  },
  {
   "cell_type": "code",
   "execution_count": 57,
   "metadata": {
    "id": "mWBdHNJPXHIV"
   },
   "outputs": [
    {
     "name": "stdout",
     "output_type": "stream",
     "text": [
      "Accuracy: 0.0\n",
      "Importance: None\n"
     ]
    }
   ],
   "source": [
    "X, y = synthetic_dataset(1000)\n",
    "print(\"Accuracy:\", np.mean(None == y))\n",
    "print(\"Importance:\", None)"
   ]
  },
  {
   "cell_type": "markdown",
   "metadata": {
    "id": "sj8GnxA7XHIW"
   },
   "source": [
    "### Задание 5 (3 балла)\n",
    "Попробуем применить один из используемых на практике алгоритмов. В этом нам поможет CatBoost. Также, как и реализованный ними RandomForest, применим его для определения пола и возраста пользователей сети Вконтакте, выведите названия наиболее важных признаков так же, как в задании 3.\\\n",
    "\\\n",
    "Эксперименты с множеством используемых признаков и подбор гиперпараметров приветствуются."
   ]
  },
  {
   "cell_type": "code",
   "execution_count": 58,
   "metadata": {
    "id": "HtjJ0jc8XHIW"
   },
   "outputs": [],
   "source": [
    "X, y_age, y_sex, features = read_dataset(\"vk.csv\")\n",
    "X_train, X_test, y_age_train, y_age_test, y_sex_train, y_sex_test = train_test_split(X, y_age, y_sex, train_size=0.9)\n",
    "X_train, X_eval, y_age_train, y_age_eval, y_sex_train, y_sex_eval = train_test_split(X_train, y_age_train, y_sex_train, train_size=0.8)"
   ]
  },
  {
   "cell_type": "code",
   "execution_count": 59,
   "outputs": [],
   "source": [
    "rfc = CatBoostClassifier(\n",
    "    logging_level='Silent',\n",
    "    loss_function='MultiClass'\n",
    ")"
   ],
   "metadata": {
    "collapsed": false,
    "pycharm": {
     "name": "#%%\n"
    }
   }
  },
  {
   "cell_type": "markdown",
   "metadata": {
    "id": "HxkWgk-VXHIW"
   },
   "source": [
    "#### Возраст"
   ]
  },
  {
   "cell_type": "code",
   "execution_count": 60,
   "metadata": {
    "id": "QNzGCe8kXHIW"
   },
   "outputs": [
    {
     "name": "stdout",
     "output_type": "stream",
     "text": [
      "Accuracy: 0.7528373266078184\n",
      "Most important features:\n",
      "1. ovsyanochan\n",
      "2. styd.pozor\n",
      "3. 4ch\n",
      "4. mudakoff\n",
      "5. rhymes\n",
      "6. dayvinchik\n",
      "7. leprum\n",
      "8. rapnewrap\n",
      "9. fuck_humor\n",
      "10. xfilm\n",
      "Accuracy: 0.7679697351828499\n",
      "Most important features:\n",
      "1. ovsyanochan\n",
      "2. 4ch\n",
      "3. styd.pozor\n",
      "4. mudakoff\n",
      "5. dayvinchik\n",
      "6. rhymes\n",
      "7. leprum\n",
      "8. tumblr_vacuum\n",
      "9. bot_maxim\n",
      "10. rapnewrap\n"
     ]
    }
   ],
   "source": [
    "rfc.fit(X_train, y_age_train, eval_set=(X_eval, y_age_eval))\n",
    "print(\"Accuracy:\", np.mean(rfc.predict(X_test).flatten() == y_age_test))\n",
    "print(\"Most important features:\")\n",
    "for i, name in enumerate(most_important_features(rfc.feature_importances_, features, 10)):\n",
    "    print(str(i+1) + \".\", name)"
   ]
  },
  {
   "cell_type": "markdown",
   "metadata": {
    "id": "xIssDLRaXHIW"
   },
   "source": [
    "#### Пол"
   ]
  },
  {
   "cell_type": "code",
   "execution_count": 55,
   "metadata": {
    "id": "nWPSbmKqXHIX"
   },
   "outputs": [
    {
     "name": "stdout",
     "output_type": "stream",
     "text": [
      "Accuracy: 0.8764186633039092\n",
      "Most important features:\n",
      "1. 40kg\n",
      "2. mudakoff\n",
      "3. girlmeme\n",
      "4. modnailru\n",
      "5. femalemem\n",
      "6. thesmolny\n",
      "7. be.beauty\n",
      "8. zerofat\n",
      "9. 9o_6o_9o\n",
      "10. reflexia_our_feelings\n"
     ]
    }
   ],
   "source": [
    "rfc.fit(X_train, y_sex_train)\n",
    "print(\"Accuracy:\", np.mean(rfc.predict(X_test).flatten() == y_sex_test))\n",
    "print(\"Most important features:\")\n",
    "for i, name in enumerate(most_important_features(rfc.feature_importances_, features, 10)):\n",
    "    print(str(i+1) + \".\", name)"
   ]
  },
  {
   "cell_type": "code",
   "execution_count": 196,
   "outputs": [],
   "source": [],
   "metadata": {
    "collapsed": false,
    "pycharm": {
     "name": "#%%\n"
    }
   }
  },
  {
   "cell_type": "code",
   "execution_count": null,
   "outputs": [],
   "source": [],
   "metadata": {
    "collapsed": false,
    "pycharm": {
     "name": "#%%\n"
    }
   }
  }
 ],
 "metadata": {
  "kernelspec": {
   "display_name": "Python 3",
   "language": "python",
   "name": "python3"
  },
  "language_info": {
   "codemirror_mode": {
    "name": "ipython",
    "version": 3
   },
   "file_extension": ".py",
   "mimetype": "text/x-python",
   "name": "python",
   "nbconvert_exporter": "python",
   "pygments_lexer": "ipython3",
   "version": "3.7.3"
  },
  "colab": {
   "name": "hw09_task.ipynb",
   "provenance": [],
   "collapsed_sections": []
  }
 },
 "nbformat": 4,
 "nbformat_minor": 0
}