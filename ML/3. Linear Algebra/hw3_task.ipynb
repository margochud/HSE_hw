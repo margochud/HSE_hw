{
 "cells": [
  {
   "cell_type": "markdown",
   "metadata": {
    "id": "-GeqjUsgn4HY"
   },
   "source": [
    "# Линейная регрессия\n",
    "__Суммарное количество баллов: 10__\n",
    "\n",
    "__Решение отправлять на `ml.course.practice@gmail.com`__\n",
    "\n",
    "__Тема письма: `[HSE][MS][ML][HW03] <ФИ>`, где вместо `<ФИ>` указаны фамилия и имя__"
   ]
  },
  {
   "cell_type": "code",
   "execution_count": 17,
   "metadata": {
    "id": "QmYMrZJGn4Hg"
   },
   "outputs": [],
   "source": [
    "from sklearn.datasets import make_blobs, make_moons\n",
    "from sklearn.model_selection import train_test_split\n",
    "import numpy as np\n",
    "import random\n",
    "import matplotlib.pyplot as plt\n",
    "import matplotlib\n",
    "import copy"
   ]
  },
  {
   "cell_type": "code",
   "execution_count": 18,
   "metadata": {
    "id": "l86n1A9Bn4Hj"
   },
   "outputs": [],
   "source": [
    "def read_data(path=\"boston.csv\"):\n",
    "    dataframe = np.genfromtxt(path, delimiter=\",\", skip_header=15)\n",
    "    np.random.seed(42)\n",
    "    np.random.shuffle(dataframe)\n",
    "    X = dataframe[:, :-1]\n",
    "    y = dataframe[:, -1]\n",
    "    return X, y"
   ]
  },
  {
   "cell_type": "code",
   "execution_count": 19,
   "metadata": {
    "id": "SIDuGR68n4Hj"
   },
   "outputs": [],
   "source": [
    "def generate_synthetic(size:int, dim=6, noise=0.1):\n",
    "    X = np.random.randn(size, dim)\n",
    "    w = np.random.randn(dim + 1)\n",
    "    noise = noise * np.random.randn(size)\n",
    "    y = X.dot(w[1:]) + w[0] + noise\n",
    "    return X, y"
   ]
  },
  {
   "cell_type": "markdown",
   "metadata": {
    "id": "KTQrXJM3n4Hk"
   },
   "source": [
    "### Задание 1 (1 балл)\n",
    "Для начала нужно понять, какую метрику для ошибки будем использовать. В нашем случае нам подойдет стандартная метрика MSE. Также чтобы оценить качество модели нам понадобится метрика $R^2$. Реализуйте обе эти метрики."
   ]
  },
  {
   "cell_type": "code",
   "execution_count": 20,
   "metadata": {
    "id": "MhFj_POqn4Hl"
   },
   "outputs": [],
   "source": [
    "def mse(y_true:np.ndarray, y_predicted:np.ndarray):\n",
    "    mse = sum((y_predicted-y_true)**2)/y_true.shape[0]\n",
    "    return mse\n",
    "\n",
    "def r2(y_true:np.ndarray, y_predicted:np.ndarray):\n",
    "    m = np.mean(y_true)\n",
    "    u = sum((y_predicted-y_true)**2)\n",
    "    v = sum((m-y_true)**2)\n",
    "    R = 1 - u/v\n",
    "    return R"
   ]
  },
  {
   "cell_type": "markdown",
   "metadata": {
    "id": "wl6-3k-wn4Hm"
   },
   "source": [
    "### Задание 2 (3 балла)\n",
    "Теперь реализуем линейную регрессию при помощи явного решения задачи минимизации. \n",
    "\n",
    "#### Методы\n",
    "`fit(X, y)` - решает задачу минимизации $\\arg\\min_{w, b}\\sum ((w\\cdot x + b) - y)^2$. \n",
    "\n",
    "`predict(X)` - строит предсказание `y` для объектов из `X`."
   ]
  },
  {
   "cell_type": "code",
   "execution_count": 21,
   "metadata": {},
   "outputs": [],
   "source": [
    "class StandardScaler:\n",
    "    def __init__(self):\n",
    "        self.mean = None\n",
    "        self.std = None\n",
    "    \n",
    "    def fit(self, X): #считаем среднее и стандартное отклонение\n",
    "        self.mean = X.mean(axis=0)\n",
    "        self.std = X.std(axis=0)\n",
    "        return self\n",
    "\n",
    "    def transform(self, X): #пересчитываем\n",
    "        X = (X - self.mean) / self.std\n",
    "        return X\n",
    "    \n",
    "    def fit_transform(self, X):  #вместе\n",
    "        X = self.fit(X).transform(X)\n",
    "        return X\n",
    "    \n",
    "    def restore(self, X):\n",
    "        X = self.std * X + self.mean\n",
    "        return X"
   ]
  },
  {
   "cell_type": "code",
   "execution_count": 22,
   "metadata": {
    "id": "qZ5qQ1p3n4Hn"
   },
   "outputs": [],
   "source": [
    "class NormalLR:\n",
    "    def __init__(self, isnorm = True):\n",
    "        self.w = None\n",
    "        self.xscaler = StandardScaler() #чтобы нормировать Х\n",
    "        self.yscaler = StandardScaler() #чтобы нормировать у\n",
    "        self.isnorm = isnorm\n",
    "        \n",
    "    def xscl(self, X):\n",
    "        X_scaled = self.xscaler.fit_transform(X)\n",
    "        return X_scaled\n",
    "    \n",
    "    def yscl(self, y):\n",
    "        y_scaled = self.yscaler.fit_transform(y)\n",
    "        return y_scaled\n",
    "        \n",
    "    def fit(self, X:np.ndarray, y:np.ndarray):\n",
    "        if self.isnorm:\n",
    "            X = self.xscl(X)\n",
    "            y = self.yscl(y)\n",
    "            \n",
    "        z = np.ones(X.shape[0]).reshape(-1, 1)\n",
    "        X_new = np.hstack((z, X)) #добавили единицы, чтобы b записать в вектор w\n",
    "        self.w = np.linalg.inv(X_new.T @ X_new) @ X_new.T @ y\n",
    "       \n",
    "    \n",
    "    def predict(self, X:np.ndarray) -> np.ndarray:\n",
    "        if self.isnorm: \n",
    "            X = self.xscl(X)\n",
    "\n",
    "        z = np.ones(X.shape[0]).reshape(-1, 1)\n",
    "        X_new = np.hstack((z, X))\n",
    "        y_pred = X_new @ self.w\n",
    "        \n",
    "        if self.isnorm:\n",
    "            y_pred = self.yscaler.restore(y_pred)\n",
    "            \n",
    "        return y_pred"
   ]
  },
  {
   "cell_type": "code",
   "execution_count": 23,
   "metadata": {
    "id": "Qg5BqJPAn4Hn"
   },
   "outputs": [],
   "source": [
    "X, y = generate_synthetic(1024)\n",
    "X_train, X_test, y_train, y_test = train_test_split(X, y, train_size=0.8)"
   ]
  },
  {
   "cell_type": "code",
   "execution_count": 24,
   "metadata": {
    "id": "dyB5sun8n4Ho"
   },
   "outputs": [
    {
     "name": "stdout",
     "output_type": "stream",
     "text": [
      "MSE: 0.04892054398277534, R2: 0.9888157953645074\n"
     ]
    }
   ],
   "source": [
    "regr = NormalLR()\n",
    "regr.fit(X_train, y_train)\n",
    "y_pred = regr.predict(X_test)\n",
    "print(f\"MSE: {mse(y_test, y_pred)}, R2: {r2(y_test, y_pred)}\")"
   ]
  },
  {
   "cell_type": "markdown",
   "metadata": {
    "id": "AQ9rFp-gn4Hp"
   },
   "source": [
    "### Задание 3 (2 балла)\n",
    "Теперь реализуем линейную регрессию с использованием градиентного спуска с larning rate `alpha` в течении `iterations` итераций. В задании необходимо использовать регуляризацию Лассо с коэффициентом `l`.\n",
    "\n",
    "#### Методы\n",
    "`fit(X, y)` - приближает решение задачи минимизации $\\arg\\min_{w, b}\\sum ((w\\cdot x + b) - y)^2$ при помощи градиентного спуска. \n",
    "\n",
    "\n",
    "`predict(X)` - строит предсказание `y` для объектов из `X`."
   ]
  },
  {
   "cell_type": "code",
   "execution_count": 165,
   "metadata": {
    "id": "eYzw2-dcn4Hq"
   },
   "outputs": [],
   "source": [
    "class GradientLR:\n",
    "    def __init__(self, alpha:float, iterations=10000, l=0., isnorm = True):\n",
    "        self.alpha = alpha\n",
    "        self.iterations = iterations\n",
    "        self.l = l\n",
    "        self.xscaler = StandardScaler()\n",
    "        self.yscaler = StandardScaler()\n",
    "        self.isnorm = isnorm\n",
    "        self.w = None\n",
    "    \n",
    "    def xscl(self, X):\n",
    "        X_scaled = self.xscaler.fit_transform(X)\n",
    "        return X_scaled\n",
    "    \n",
    "    def yscl(self, y):\n",
    "        y_scaled = self.yscaler.fit_transform(y)\n",
    "        return y_scaled\n",
    "     \n",
    "        \n",
    "    def fit(self, X:np.ndarray, y:np.ndarray):\n",
    "        if self.isnorm:\n",
    "            X = self.xscl(X)\n",
    "            y = self.yscl(y)\n",
    "        \n",
    "        z = np.ones(X.shape[0]).reshape(-1, 1)\n",
    "        X_new = np.hstack((z, X)) #добавили единицы, чтобы b записать в вектор w\n",
    "        \n",
    "        prev = np.zeros(X_new.shape[1])\n",
    "        estimate = np.zeros(X_new.shape[1])\n",
    "        \n",
    "        for _ in range(self.iterations):\n",
    "            prev = estimate\n",
    "            deriv = (1 / X.shape[0]) * X_new.T @ (X_new @ prev - y) + self.l * np.sign(prev) #сосчитали производную\n",
    "            estimate = estimate - self.alpha * deriv\n",
    "            if np.linalg.norm(estimate-prev) < 0.000001: #если близки\n",
    "                break\n",
    "        self.w = estimate\n",
    "    \n",
    "    def predict(self, X:np.ndarray) -> np.ndarray:\n",
    "        if self.isnorm: \n",
    "            X = self.xscl(X)\n",
    "\n",
    "        z = np.ones(X.shape[0]).reshape(-1, 1)\n",
    "        X_new = np.hstack((z, X))\n",
    "        y_pred = X_new @ self.w\n",
    "        \n",
    "        if self.isnorm:\n",
    "            y_pred = self.yscaler.restore(y_pred)\n",
    "            \n",
    "        return y_pred"
   ]
  },
  {
   "cell_type": "code",
   "execution_count": 249,
   "metadata": {
    "id": "NcfjGBREn4Hq"
   },
   "outputs": [],
   "source": [
    "def build_plot(X_train, y_train, X_test, y_test, left=0.005, right=0.0012):\n",
    "    #xs = np.arange(0.0, 0.006, 0.00002)\n",
    "    xs = np.linspace(left, right, 100)\n",
    "    errors = []\n",
    "    for x in xs:\n",
    "        regr = GradientLR(0.1, iterations=10000, l=x)\n",
    "        regr.fit(X_train, y_train)\n",
    "        errors.append(mse(y_test, regr.predict(X_test)))\n",
    "    plt.figure(figsize=(9, 4))\n",
    "    plt.xlim(xs[0], xs[-1])\n",
    "    plt.grid()\n",
    "    plt.plot(xs, errors)\n",
    "    plt.show()"
   ]
  },
  {
   "cell_type": "code",
   "execution_count": 250,
   "metadata": {
    "id": "ZQ8txzZdn4Hr"
   },
   "outputs": [],
   "source": [
    "X, y = generate_synthetic(1024)\n",
    "X, X_val, y, y_val = train_test_split(X, y, train_size=0.9, shuffle=True)\n",
    "X_train, X_test, y_train, y_test = train_test_split(X, y, train_size=0.8, shuffle=True)"
   ]
  },
  {
   "cell_type": "code",
   "execution_count": 251,
   "metadata": {
    "id": "z7QFa1czn4Hs"
   },
   "outputs": [
    {
     "data": {
      "image/png": "[encoded data removed]",
      "text/plain": [
       "<Figure size 648x288 with 1 Axes>"
      ]
     },
     "metadata": {
      "needs_background": "light"
     },
     "output_type": "display_data"
    }
   ],
   "source": [
    "build_plot(X_train, y_train, X_val, y_val)"
   ]
  },
  {
   "cell_type": "code",
   "execution_count": 202,
   "metadata": {
    "id": "siP8OKLRn4Ht"
   },
   "outputs": [
    {
     "name": "stdout",
     "output_type": "stream",
     "text": [
      "MSE: 0.018757025342243543, R2: 0.9981084995040337\n"
     ]
    }
   ],
   "source": [
    "regr = GradientLR(0.1, iterations=10000)\n",
    "regr.fit(X_train, y_train)\n",
    "y_pred = regr.predict(X_test)\n",
    "print(f\"MSE: {mse(y_test, y_pred)}, R2: {r2(y_test, y_pred)}\")"
   ]
  },
  {
   "cell_type": "markdown",
   "metadata": {
    "id": "UmjSHt9rn4Ht"
   },
   "source": [
    "### Задание 4 (2 балла)\n",
    "Протесируйте оба метода на данных `boston.csv`, для градиентного спуска постройте график зависимости ошибки от коэффициента регуляризации. "
   ]
  },
  {
   "cell_type": "code",
   "execution_count": 217,
   "metadata": {
    "id": "dk2TeC7Hn4Hu"
   },
   "outputs": [],
   "source": [
    "X, y = read_data()\n",
    "X_train, X_val, y_train, y_val = train_test_split(X, y, train_size=0.8, shuffle=False)"
   ]
  },
  {
   "cell_type": "code",
   "execution_count": 218,
   "metadata": {
    "id": "GZCb_5KVn4Hu"
   },
   "outputs": [
    {
     "name": "stdout",
     "output_type": "stream",
     "text": [
      "MSE: 23907612.01182961, R2: 0.6642284195038757\n"
     ]
    }
   ],
   "source": [
    "regr = NormalLR()\n",
    "regr.fit(X_train, y_train)\n",
    "y_pred = regr.predict(X_val)\n",
    "print(f\"MSE: {mse(y_val, y_pred)}, R2: {r2(y_val, y_pred)}\")"
   ]
  },
  {
   "cell_type": "code",
   "execution_count": 252,
   "metadata": {
    "id": "UMkUfayxn4Hv"
   },
   "outputs": [
    {
     "data": {
      "image/png": "[encoded data removed]",
      "text/plain": [
       "<Figure size 648x288 with 1 Axes>"
      ]
     },
     "metadata": {
      "needs_background": "light"
     },
     "output_type": "display_data"
    }
   ],
   "source": [
    "build_plot(X_train, y_train, X_val, y_val, left=0.0, right=0.006)"
   ]
  },
  {
   "cell_type": "code",
   "execution_count": 221,
   "metadata": {
    "id": "MtPBlBPkn4Hw"
   },
   "outputs": [
    {
     "name": "stdout",
     "output_type": "stream",
     "text": [
      "MSE: 23907363.23346695, R2: 0.6642319134832819\n"
     ]
    }
   ],
   "source": [
    "regr = GradientLR(0.1, iterations=10000)\n",
    "regr.fit(X_train, y_train)\n",
    "y_pred = regr.predict(X_val)\n",
    "print(f\"MSE: {mse(y_val, y_pred)}, R2: {r2(y_val, y_pred)}\")"
   ]
  },
  {
   "cell_type": "markdown",
   "metadata": {
    "id": "d63Ei1yEn4Hw"
   },
   "source": [
    "### Задание 5 (2 балла)\n",
    "Проинтерпритируйте полученные результаты. Опишите влияние каждого признака на результат предсказания."
   ]
  },
  {
   "cell_type": "markdown",
   "metadata": {},
   "source": [
    "Рассмотрим, что у нас получилось на линейной регрессии с LASSO регурялизацией. Описание признаков, взятое из файла:"
   ]
  },
  {
   "attachments": {},
   "cell_type": "markdown",
   "metadata": {
    "id": "19Ci6i5Wn4Hw"
   },
   "source": [
    "  1. crim     per capita crime rate by town\t\n",
    "  2. zn       proportion of residential land zoned for lots over 25,000 sq.ft.\t\n",
    "  3. indus    proportion of non-retail business acres per town\t\n",
    "  4. chas     Charles River dummy variable (= 1 if tract bounds river\t 0 otherwise)\n",
    "  5. nox      nitric oxides concentration (parts per 10 million)\t\n",
    "  6. rm       average number of rooms per dwelling\t\n",
    "  7. age      proportion of owner-occupied units built prior to 1940\t\n",
    "  8. dis      weighted distances to five Boston employment centres\t\n",
    "  9. rad      index of accessibility to radial highways\t\n"
   ]
  },
  {
   "cell_type": "markdown",
   "metadata": {},
   "source": [
    " 10. tax      full-value property-tax rate per 10,000\t\n",
    " 11. ptratio  pupil-teacher ratio by town\t\n",
    " 12. b        1000(Bk - 0.63)^2 where Bk is the proportion of blacks by town\t\n",
    " 13. lstat    % lower status of the population\t"
   ]
  },
  {
   "cell_type": "code",
   "execution_count": 281,
   "metadata": {},
   "outputs": [
    {
     "name": "stdout",
     "output_type": "stream",
     "text": [
      "Weight: -0.4271481481, feature number: 13\n",
      "Weight: -0.3507917243, feature number: 8\n",
      "Weight: -0.2617815451, feature number: 10\n",
      "Weight: -0.2141228233, feature number: 5\n",
      "Weight: -0.2098617128, feature number: 11\n",
      "Weight: -0.1010168127, feature number: 1\n",
      "Weight: -0.0146815145, feature number: 3\n",
      "Weight: 0.0315025564, feature number: 7\n",
      "Weight: 0.0629941538, feature number: 4\n",
      "Weight: 0.0851286234, feature number: 12\n",
      "Weight: 0.1352358505, feature number: 2\n",
      "Weight: 0.2781097032, feature number: 6\n",
      "Weight: 0.3050971636, feature number: 9\n"
     ]
    }
   ],
   "source": [
    "num = np.arange(len(regr.w[1:]))+1\n",
    "pr = sorted(list(zip(regr.w[1:], num)))\n",
    "for item in pr:\n",
    "    print(f'Weight: {item[0]:.10f}, feature number: {item[1]}')"
   ]
  },
  {
   "cell_type": "markdown",
   "metadata": {},
   "source": [
    " Самыми значимыми положительно влияющими признаками оказались `rad`(близость к крупным дорогам) и `rm`(среднее количество количество комнат в жилище), а самыми значимыми негативно влияющими оказались `lstat`(статус населения), `dis`(расстояния до 5 бостонских центров занятости), `tax`(налог на недвидимость), `nox`(содержание окиси азота в воздухе). Это вполне согласуется со здравым смыслом: чем больше комнат, тем дороже квартира, а доступность транспорта - один из важнейших аспетов при покупке жилья. Токсичные выбросы и большой процент населения без должного образования/рабочих же указывает на неблагоприятный район. На мой взгляд интересно, что переменная `b` (процент чернокожего населения) дает небольшой положительный вклад, и странно, что переменная `crim` дает только небольшой отрицательный - я бы ожидала, что это будет самым плохим фактором."
   ]
  },
  {
   "cell_type": "markdown",
   "metadata": {},
   "source": []
  },
  {
   "cell_type": "code",
   "execution_count": null,
   "metadata": {},
   "outputs": [],
   "source": []
  }
 ],
 "metadata": {
  "colab": {
   "collapsed_sections": [],
   "name": "hw3_task.ipynb",
   "provenance": []
  },
  "kernelspec": {
   "display_name": "Python 3",
   "language": "python",
   "name": "python3"
  },
  "language_info": {
   "codemirror_mode": {
    "name": "ipython",
    "version": 3
   },
   "file_extension": ".py",
   "mimetype": "text/x-python",
   "name": "python",
   "nbconvert_exporter": "python",
   "pygments_lexer": "ipython3",
   "version": "3.8.5"
  }
 },
 "nbformat": 4,
 "nbformat_minor": 1
}