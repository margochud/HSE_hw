{
 "cells": [
  {
   "cell_type": "markdown",
   "metadata": {
    "id": "WYC9jXnTRvW3"
   },
   "source": [
    "# Наивный Байес и спам\n",
    "__Суммарное количество баллов: 8__\n",
    "\n",
    "__Решение отправлять на `ml.course.practice@gmail.com`__\n",
    "\n",
    "__Тема письма: `[HSE][ML][MS][HW10] <ФИ>`, где вместо `<ФИ>` указаны фамилия и имя__"
   ]
  },
  {
   "cell_type": "code",
   "execution_count": 1,
   "metadata": {
    "id": "gmljLzJDRvW4"
   },
   "outputs": [],
   "source": [
    "from sklearn.model_selection import train_test_split\n",
    "import numpy as np\n",
    "import pandas\n",
    "import random\n",
    "import matplotlib.pyplot as plt\n",
    "import matplotlib\n",
    "import copy\n",
    "import spacy\n",
    "from nltk.stem.snowball import SnowballStemmer\n",
    "from typing import NoReturn"
   ]
  },
  {
   "cell_type": "code",
   "execution_count": 2,
   "metadata": {
    "id": "VRJVvs51RvW4"
   },
   "outputs": [],
   "source": [
    "import re\n",
    "def read_dataset(filename):\n",
    "    file = open(filename, encoding=\"utf-8\")\n",
    "    x = []\n",
    "    y = []\n",
    "    for line in file:\n",
    "        cl, sms = re.split(\"^(ham|spam)[\\t\\s]+(.*)$\", line)[1:3]\n",
    "        x.append(sms)\n",
    "        y.append(cl)\n",
    "    return np.array(x, dtype=np.str), np.array(y, dtype=np.str)"
   ]
  },
  {
   "cell_type": "code",
   "execution_count": 3,
   "metadata": {
    "id": "bTZmo3khRvW5"
   },
   "outputs": [],
   "source": [
    "def get_precision_recall_accuracy(y_pred, y_true):\n",
    "    classes = np.unique(list(y_pred) + list(y_true))\n",
    "    true_positive = dict((c, 0) for c in classes)\n",
    "    true_negative = dict((c, 0) for c in classes)\n",
    "    false_positive = dict((c, 0) for c in classes)\n",
    "    false_negative = dict((c, 0) for c in classes)\n",
    "    for c_pred, c_true in zip(y_pred, y_true):\n",
    "        for c in classes:\n",
    "            if c_true == c:\n",
    "                if c_pred == c_true:\n",
    "                    true_positive[c] = true_positive.get(c, 0) + 1\n",
    "                else:\n",
    "                    false_negative[c] = false_negative.get(c, 0) + 1\n",
    "            else:\n",
    "                if c_pred == c:\n",
    "                    false_positive[c] = false_positive.get(c, 0) + 1\n",
    "                else:\n",
    "                    true_negative[c] = true_negative.get(c, 0) + 1\n",
    "    precision = dict((c, true_positive[c] / (true_positive[c] + false_positive[c])) for c in classes)\n",
    "    recall = dict((c, true_positive[c] / (true_positive[c] + false_negative[c])) for c in classes)\n",
    "    accuracy = sum([true_positive[c] for c in classes]) / len(y_pred)\n",
    "    return precision, recall, accuracy\n",
    "\n",
    "def plot_precision_recall(X_train, y_train, X_test, y_test, bow_method, voc_sizes=range(4, 200, 5)):\n",
    "    classes = np.unique(list(y_train) + list(y_test))\n",
    "    precisions = dict([(c, []) for c in classes])\n",
    "    recalls = dict([(c, []) for c in classes])\n",
    "    accuracies = []\n",
    "    for v in voc_sizes:\n",
    "        bow = bow_method(X_train, voc_limit=v)\n",
    "        X_train_transformed = bow.transform(X_train)\n",
    "        X_test_transformed = bow.transform(X_test)\n",
    "        classifier = NaiveBayes(0.001)\n",
    "        classifier.fit(X_train_transformed, y_train)\n",
    "        y_pred = classifier.predict(X_test_transformed)\n",
    "        precision, recall, acc = get_precision_recall_accuracy(y_pred, y_test)\n",
    "        for c in classes:\n",
    "            precisions[c].append(precision[c])\n",
    "            recalls[c].append(recall[c])\n",
    "        accuracies.append(acc)\n",
    "    def plot(x, ys, ylabel, legend=True):        \n",
    "        plt.figure(figsize = (12, 3))\n",
    "        plt.xlabel(\"Vocabulary size\")\n",
    "        plt.ylabel(ylabel)\n",
    "        plt.xlim(x[0], x[-1])\n",
    "        plt.ylim(np.min(list(ys.values()))-0.01, np.max(list(ys.values()))+0.01)\n",
    "        for c in ys.keys():\n",
    "            plt.plot(x, ys[c], label=\"Class \" + str(c))\n",
    "        if legend:\n",
    "            plt.legend()\n",
    "        plt.tight_layout()\n",
    "        plt.show()\n",
    "    \n",
    "    plot(voc_sizes, recalls, \"Recall\")\n",
    "    plot(voc_sizes, precisions, \"Precision\")\n",
    "    plot(voc_sizes, {\"\":accuracies}, \"Accuracy\", legend=False)"
   ]
  },
  {
   "cell_type": "code",
   "execution_count": 4,
   "metadata": {
    "id": "9YKoYXwsRvW5"
   },
   "outputs": [
    {
     "name": "stderr",
     "output_type": "stream",
     "text": [
      "/tmp/ipykernel_12330/3943217656.py:10: DeprecationWarning: `np.str` is a deprecated alias for the builtin `str`. To silence this warning, use `str` by itself. Doing this will not modify any behavior and is safe. If you specifically wanted the numpy scalar type, use `np.str_` here.\n",
      "Deprecated in NumPy 1.20; for more details and guidance: https://numpy.org/devdocs/release/1.20.0-notes.html#deprecations\n",
      "  return np.array(x, dtype=np.str), np.array(y, dtype=np.str)\n"
     ]
    }
   ],
   "source": [
    "X, y = read_dataset(\"spam\")"
   ]
  },
  {
   "cell_type": "code",
   "execution_count": 52,
   "metadata": {
    "id": "GCmIbwv6RvW5"
   },
   "outputs": [],
   "source": [
    "X_train, X_test, y_train, y_test = train_test_split(X, y, train_size=0.9)"
   ]
  },
  {
   "cell_type": "markdown",
   "metadata": {
    "id": "oJe5cDxDRvW5"
   },
   "source": [
    "### Задание 1 (3 балла)\n",
    "Реализуйте классификацию методом Байеса в предположении независимости компонент `x`. При реализации следует считать, что значения каждой компоненты дискретны, а `p(x|y)` имеет мультиномиальное распределение.\n",
    "\n",
    "#### Методы\n",
    "`fit(X, y)` - оценивает параметры распределения `p(x|y)` для каждого `y`. \n",
    "\n",
    "`log_proba(X)` - для каждого элемента набора `X` считает логарифм вероятности отнести его к каждому классу. По теореме Байеса: `p(y|x) = p(y)p(x|y)/p(x)`. Соответственно, после логарифмирования: `log p(y|x) = log p(y) + log p(x|y) - log p(x)`. Поскольку `log p(x)` является независящей от класса `y` константой, это слагаемое никак не влияет на решение задачи максимизации. Поэтому его можно просто убрать для простоты."
   ]
  },
  {
   "cell_type": "code",
   "execution_count": 83,
   "metadata": {
    "id": "cQL-8wxwRvW5"
   },
   "outputs": [],
   "source": [
    "class NaiveBayes:\n",
    "    def __init__(self, alpha: float):\n",
    "        \"\"\"\n",
    "        Parameters\n",
    "        ----------\n",
    "        alpha : float\n",
    "            Параметр аддитивной регуляризации.\n",
    "        \"\"\"\n",
    "        self.prob_xy = None\n",
    "        self.prob_y = None\n",
    "        self.classes = None\n",
    "        self.alpha = alpha\n",
    "    \n",
    "    def fit(self, X: np.ndarray, y: np.ndarray) -> NoReturn:\n",
    "        \"\"\"\n",
    "        Оценивает параметры распределения p(x|y) для каждого y.\n",
    "        \"\"\"\n",
    "        self.classes, freq_classes = np.unique(y, return_counts=True)\n",
    "        self.prob_y = freq_classes / len(y)\n",
    "        n = X.shape[1]\n",
    "        self.prob_xy = {}\n",
    "        for cl in self.classes:\n",
    "            cl_count = np.sum(X[y == cl], axis=0)\n",
    "            self.prob_xy[cl] = (cl_count+self.alpha)/(cl_count.sum() + n*self.alpha)\n",
    "\n",
    "        \n",
    "    def predict(self, X: np.ndarray) -> list:\n",
    "        \"\"\"\n",
    "        Return\n",
    "        ------\n",
    "        list\n",
    "            Предсказанный класс для каждого элемента из набора X.\n",
    "        \"\"\"\n",
    "        return [self.classes[i] for i in np.argmax(self.log_proba(X), axis=1)]\n",
    "    \n",
    "    def log_proba(self, X: np.ndarray) -> np.ndarray:\n",
    "        \"\"\"\n",
    "        Return\n",
    "        ------\n",
    "        np.ndarray\n",
    "            Для каждого элемента набора X - логарифм вероятности отнести его к каждому классу. \n",
    "            Матрица размера (X.shape[0], n_classes)\n",
    "        \"\"\"\n",
    "        out = np.zeros((X.shape[0], len(self.classes)))\n",
    "        out += np.log(self.prob_y)\n",
    "        for i, item in enumerate(self.classes):\n",
    "            p = np.multiply(np.log(self.prob_xy[item]), X)\n",
    "            out[:, i] += np.sum(p, axis=1)\n",
    "        return out\n",
    "\n"
   ]
  },
  {
   "cell_type": "markdown",
   "metadata": {
    "id": "7FN-thBWRvW5"
   },
   "source": [
    "### Задание 2 (3 балла)\n",
    "Теперь реализуем метод bag of words. Задача состоит в том, чтобы посчитать количество вхождений каждого слова в предложение.\n",
    "\n",
    "#### Методы\n",
    "`__init__(X, voc_limit)` - инициализирует BoW, составляя словарь, который будет использоваться для векторизации предложений. Размер словаря должен быть не больше `voc_limit`, в него должны входить самые часто встречающиеся в выборке слова.\n",
    "\n",
    "`transform(X)` - векторизует сообщения из набора."
   ]
  },
  {
   "cell_type": "code",
   "execution_count": 84,
   "metadata": {
    "id": "IF-Eer3MRvW5"
   },
   "outputs": [],
   "source": [
    "def towords(string):\n",
    "    opt = re.sub(r'[^\\w\\s]','', string.lower()).split()\n",
    "    return opt\n",
    "\n",
    "\n",
    "class BoW:\n",
    "    def __init__(self, X: np.ndarray, voc_limit: int = 1000):\n",
    "        \"\"\"\n",
    "        Составляет словарь, который будет использоваться для векторизации предложений.\n",
    "\n",
    "        Parameters\n",
    "        ----------\n",
    "        X : np.ndarray\n",
    "            Массив строк (предложений) размерности (n_sentences, ), \n",
    "            по которому будет составляться словарь.\n",
    "        voc_limit : int\n",
    "            Максимальное число слов в словаре.\n",
    "\n",
    "        \"\"\"\n",
    "        self.X = X\n",
    "        self.voc_limit = voc_limit\n",
    "        newtext = []\n",
    "        for string in X:\n",
    "            opt = towords(string)\n",
    "            newtext.extend(opt)\n",
    "        words, freq = np.unique(newtext, return_counts=True)\n",
    "        ind = np.argsort(-freq)\n",
    "        self.dict = words[ind][:voc_limit]\n",
    "        self.vocab_size = len(self.dict)\n",
    "        self.numdict = {self.dict[key]: key for key in range(voc_limit)}\n",
    "\n",
    "    def transform(self, X: np.ndarray) -> np.ndarray:\n",
    "        \"\"\"\n",
    "        Векторизует предложения.\n",
    "\n",
    "        Parameters\n",
    "        ----------\n",
    "        X : np.ndarray\n",
    "            Массив строк (предложений) размерности (n_sentences, ), \n",
    "            который необходимо векторизовать.\n",
    "        \n",
    "        Return\n",
    "        ------\n",
    "        np.ndarray\n",
    "            Матрица векторизованных предложений размерности (n_sentences, vocab_size)\n",
    "        \"\"\"\n",
    "        out = np.zeros((X.shape[0], self.vocab_size))\n",
    "        for i, string in enumerate(X):\n",
    "            opt = towords(string)\n",
    "            words, freq = np.unique(opt, return_counts=True)\n",
    "            for j, wrd in enumerate(words):\n",
    "                if wrd in self.dict:\n",
    "                    num = self.numdict[wrd]\n",
    "                    out[i, num] += freq[j]\n",
    "                    #print(out)\n",
    "        return out"
   ]
  },
  {
   "cell_type": "code",
   "execution_count": 85,
   "metadata": {
    "id": "VuSY9FEARvW5"
   },
   "outputs": [],
   "source": [
    "bow = BoW(X_train, voc_limit=500)\n",
    "X_train_bow = bow.transform(X_train)\n",
    "X_test_bow = bow.transform(X_test)"
   ]
  },
  {
   "cell_type": "code",
   "execution_count": 86,
   "metadata": {
    "id": "Qc_XEWnQRvW5"
   },
   "outputs": [
    {
     "data": {
      "text/plain": "({'ham': 0.9821428571428571, 'spam': 0.9444444444444444},\n {'ham': 0.9939759036144579, 'spam': 0.85},\n 0.978494623655914)"
     },
     "execution_count": 86,
     "metadata": {},
     "output_type": "execute_result"
    }
   ],
   "source": [
    "predictor = NaiveBayes(0.001)\n",
    "predictor.fit(X_train_bow, y_train)\n",
    "get_precision_recall_accuracy(predictor.predict(X_test_bow), y_test)"
   ]
  },
  {
   "cell_type": "code",
   "execution_count": null,
   "metadata": {
    "id": "gVALRDXsRvW5"
   },
   "outputs": [],
   "source": [
    "plot_precision_recall(X_train, y_train, X_test, y_test, BoW)"
   ]
  },
  {
   "cell_type": "markdown",
   "metadata": {
    "id": "hGk3atjoRvW5"
   },
   "source": [
    "### Задание 3 (2 балла)\n",
    "Теперь добавим в BoW стемминг. Для этого нам понадобится класс SnowballStemmer из пакета `nltk`\n",
    "\n",
    "#### Методы\n",
    "`__init__(X, voc_limit)` - инициализирует BoW, составляя словарь, который будет использоваться для векторизации предложений. Размер словаря должен быть не больше `voc_limit`, в него должны входить самые часто встречающиеся в выборке слова.\n",
    "\n",
    "`transform(X)` - векторизует сообщения из набора."
   ]
  },
  {
   "cell_type": "code",
   "execution_count": 92,
   "metadata": {
    "id": "VSNUl3P_RvW5"
   },
   "outputs": [],
   "source": [
    "\n",
    "class BowStem:\n",
    "    def __init__(self, X: np.ndarray, voc_limit: int = 1000):\n",
    "        \"\"\"\n",
    "        Составляет словарь, который будет использоваться для векторизации предложений.\n",
    "\n",
    "        Parameters\n",
    "        ----------\n",
    "        X : np.ndarray\n",
    "            Массив строк (предложений) размерности (n_sentences, ),\n",
    "            по которому будет составляться словарь.\n",
    "        voc_limit : int\n",
    "            Максимальное число слов в сdef towordssnow(string):\n",
    "    opt = re.sub(r'[^\\w\\s]','', string.lower()).split()\n",
    "    return []ловаре.\n",
    "\n",
    "        \"\"\"\n",
    "        self.stemmer = SnowballStemmer(language='english')\n",
    "        self.X = X\n",
    "        self.voc_limit = voc_limit\n",
    "        newtext = []\n",
    "        for string in X:\n",
    "            opt = self.towordssnow(string)\n",
    "            newtext.extend(opt)\n",
    "        words, freq = np.unique(newtext, return_counts=True)\n",
    "        ind = np.argsort(-freq)\n",
    "        self.dict = words[ind][:voc_limit]\n",
    "        self.vocab_size = len(self.dict)\n",
    "        self.numdict = {self.dict[key]: key for key in range(voc_limit)}\n",
    "\n",
    "    def towordssnow(self, string):\n",
    "        opt = re.sub(r'[^\\w\\s]','', string.lower()).split()\n",
    "        return [self.stemmer.stem(item) for item in opt]\n",
    "\n",
    "    def transform(self, X: np.ndarray) -> np.ndarray:\n",
    "        \"\"\"\n",
    "        Векторизует предложения.\n",
    "\n",
    "        Parameters\n",
    "        ----------\n",
    "        X : np.ndarray\n",
    "            Массив строк (предложений) размерности (n_sentences, ),\n",
    "            который необходимо векторизовать.\n",
    "\n",
    "        Return\n",
    "        ------\n",
    "        np.ndarray\n",
    "            Матрица векторизованных предложений размерности (n_sentences, vocab_size)\n",
    "        \"\"\"\n",
    "        out = np.zeros((X.shape[0], self.vocab_size))\n",
    "        for i, string in enumerate(X):\n",
    "            opt = towords(string)\n",
    "            words, freq = np.unique(opt, return_counts=True)\n",
    "            for j, wrd in enumerate(words):\n",
    "                if wrd in self.dict:\n",
    "                    num = self.numdict[wrd]\n",
    "                    out[i, num] += freq[j]\n",
    "                    #print(out)\n",
    "        return out"
   ]
  },
  {
   "cell_type": "code",
   "execution_count": 93,
   "metadata": {
    "id": "qPZTK_O0RvW5"
   },
   "outputs": [],
   "source": [
    "bows = BowStem(X_train, voc_limit=500)\n",
    "X_train_bows = bows.transform(X_train)\n",
    "X_test_bows = bows.transform(X_test)"
   ]
  },
  {
   "cell_type": "code",
   "execution_count": 94,
   "metadata": {
    "id": "qrHhPYWhRvW5"
   },
   "outputs": [
    {
     "data": {
      "text/plain": "({'ham': 0.9821782178217822, 'spam': 0.9622641509433962},\n {'ham': 0.9959839357429718, 'spam': 0.85},\n 0.9802867383512545)"
     },
     "execution_count": 94,
     "metadata": {},
     "output_type": "execute_result"
    }
   ],
   "source": [
    "predictor = NaiveBayes(0.001)\n",
    "predictor.fit(X_train_bows, y_train)\n",
    "get_precision_recall_accuracy(predictor.predict(X_test_bows), y_test)"
   ]
  },
  {
   "cell_type": "code",
   "execution_count": 95,
   "metadata": {
    "id": "9-LzCffuRvW5"
   },
   "outputs": [
    {
     "data": {
      "text/plain": "<Figure size 864x216 with 1 Axes>",
      "image/png": "[encoded data removed]"
     },
     "metadata": {
      "needs_background": "light"
     },
     "output_type": "display_data"
    },
    {
     "data": {
      "text/plain": "<Figure size 864x216 with 1 Axes>",
      "image/png": "[encoded data removed]"
     },
     "metadata": {
      "needs_background": "light"
     },
     "output_type": "display_data"
    },
    {
     "data": {
      "text/plain": "<Figure size 864x216 with 1 Axes>",
      "image/png": "[encoded data removed]"
     },
     "metadata": {
      "needs_background": "light"
     },
     "output_type": "display_data"
    }
   ],
   "source": [
    "plot_precision_recall(X_train, y_train, X_test, y_test, BowStem)"
   ]
  },
  {
   "cell_type": "code",
   "execution_count": null,
   "metadata": {
    "id": "Zc1hRvRnRvW5"
   },
   "outputs": [],
   "source": [
    ""
   ]
  },
  {
   "cell_type": "code",
   "execution_count": null,
   "metadata": {
    "id": "58GwS5gARvW5"
   },
   "outputs": [],
   "source": [
    ""
   ]
  }
 ],
 "metadata": {
  "colab": {
   "collapsed_sections": [],
   "name": "hw10_task.ipynb",
   "provenance": []
  },
  "kernelspec": {
   "display_name": "Python 3",
   "language": "python",
   "name": "python3"
  },
  "language_info": {
   "codemirror_mode": {
    "name": "ipython",
    "version": 3
   },
   "file_extension": ".py",
   "mimetype": "text/x-python",
   "name": "python",
   "nbconvert_exporter": "python",
   "pygments_lexer": "ipython3",
   "version": "3.7.3"
  }
 },
 "nbformat": 4,
 "nbformat_minor": 0
}