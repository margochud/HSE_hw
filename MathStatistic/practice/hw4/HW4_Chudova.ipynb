{
 "cells": [
  {
   "cell_type": "code",
   "execution_count": 2,
   "metadata": {},
   "outputs": [],
   "source": [
    "import numpy as np\n",
    "import seaborn as sns\n",
    "import numpy.random as rd\n",
    "import matplotlib.pyplot as plt\n",
    "import math\n",
    "from IPython.display import display, Math\n",
    "import scipy.stats as st"
   ]
  },
  {
   "cell_type": "markdown",
   "metadata": {},
   "source": [
    "$x_1, \\ldots, x_n \\sim Bin(m, p)$. \n",
    "* Показать, что $p$ попадает в доверительный интервал с нужной вероятностью.\n",
    "* Исследовать зависимость ширины доверительного интервала для параметра распределения $p$ от объема выборки."
   ]
  },
  {
   "cell_type": "markdown",
   "metadata": {},
   "source": [
    "На лекции говорили о том, как строить асимптотические доверительные интервалы с помощью ЦПТ. Для биноминального распределения имеем $Bin(m, p) \\sim N(mp, mpq)$, то есть\n",
    "$$L(\\sqrt{m}\\frac{\\overline{x}-mp}{\\sqrt{mp(1-p)}}) \\rightarrow N(0,1)$$\n",
    "и можем взять центральную статистику \n",
    "$$ g = \\frac{\\overline{x}-mp}{\\sqrt{p(1-p)}}$$"
   ]
  },
  {
   "cell_type": "markdown",
   "metadata": {},
   "source": [
    "Рассмотрим доверительный интервал с $\\gamma = 0.95$. Тогда с этой вероятностью\n",
    "$$ -z_k< \\frac{\\overline{x}-mp}{\\sqrt{p(1-p)}}<z_k$$\n",
    "где $z_k = 1.96$ (информация из таблички).\n",
    "\n",
    "Саму величину $p$ будем оценивать через матожидание: $E\\xi=mp \\Rightarrow p = \\frac{\\overline{x}}{m}$.\n",
    "\n",
    "$$ -z_k< \\frac{\\overline{x}-mp}{\\sqrt{\\frac{\\overline{x}}{m}(1-\\frac{\\overline{x}}{m})}}<z_k$$\n",
    "В конечном итоге доверительный интервал:\n",
    "$$\\frac{1}{m}(\\overline{x} - z_k \\sqrt{\\frac{\\overline{x}}{m}(1-\\frac{\\overline{x}}{m})} < p < \\frac{1}{m}(\\overline{x} + z_k \\sqrt{\\frac{\\overline{x}}{m}(1-\\frac{\\overline{x}}{m})} )$$"
   ]
  },
  {
   "cell_type": "code",
   "execution_count": 55,
   "metadata": {},
   "outputs": [
    {
     "name": "stdout",
     "output_type": "stream",
     "text": [
      "Вероятность попадания в доверительный интервал: 0.9506\n"
     ]
    }
   ],
   "source": [
    "#cmap = plt.get_cmap(\"tab10\").colors\n",
    "\n",
    "#plt.figure(figsize=(15, 15))\n",
    "\n",
    "n = 10000 # количество выборок\n",
    "m = 100000 # параметр Bin\n",
    "z = 100000 # размер выборки\n",
    "p = 0.5\n",
    "tmp = []\n",
    "for k in range(n):\n",
    "    sample = st.binom(n=m, p=p).rvs(size=z)\n",
    "    a = sample.mean()\n",
    "    b = sample.std()\n",
    "    #print(a/m)\n",
    "    tmp.append((a-m*p)/(np.sqrt(a/m*(1-a/m))))\n",
    "#print(tmp)\n",
    "counter = 0\n",
    "for i in range(n):\n",
    "    if -1.96 < tmp[i] < 1.96:\n",
    "        counter +=1\n",
    "print(\"Вероятность попадания в доверительный интервал:\", counter/n)"
   ]
  },
  {
   "cell_type": "markdown",
   "metadata": {},
   "source": [
    "Нас этот результат вполне устраивает.\n",
    "\n",
    "Теперь посмотрим на зависимоть ширины доверительного интервала от объема выборки. Ширина, очевидно, это просто $\\overline{x}/m$."
   ]
  },
  {
   "cell_type": "code",
   "execution_count": 67,
   "metadata": {},
   "outputs": [
    {
     "data": {
      "image/png": "[encoded data removed]",
      "text/plain": [
       "<Figure size 1080x1080 with 1 Axes>"
      ]
     },
     "metadata": {
      "needs_background": "light"
     },
     "output_type": "display_data"
    }
   ],
   "source": [
    "plt.figure(figsize=(15, 15))\n",
    "m = 10000\n",
    "y = []\n",
    "for i in range(100, m, 10):\n",
    "    sample = st.binom(n=m, p=p).rvs(size=m)\n",
    "    y.append(sample.mean()/i)\n",
    "#print(y)\n",
    "plt.plot(range(100, m, 10), y, label=\"width\")\n",
    "plt.plot(range(100, m, 10), [0.5 for i in range(100, m, 10)], label=\"p\")\n",
    "plt.legend()\n",
    "plt.xlabel(\"m\")\n",
    "plt.ylabel(\"Confidence width\")\n",
    "\n",
    "None"
   ]
  },
  {
   "cell_type": "markdown",
   "metadata": {},
   "source": [
    "Видим, что ширина стремится к $p$ при увеличении $m$."
   ]
  },
  {
   "cell_type": "code",
   "execution_count": 24,
   "metadata": {},
   "outputs": [
    {
     "name": "stdout",
     "output_type": "stream",
     "text": [
      "$a =$ 118 ;, $P=$ 0.2382305772598008 \n",
      "$a =$ 119 ;, $P=$ 0.7331958473896388 \n",
      "$a =$ 121 ;, $P=$ 0.7331958473896388 \n",
      "$a =$ 122 ;, $P=$ 0.23823057725980085 \n",
      "$a =$ 123 ;, $P=$ 0.02027999849766412 \n"
     ]
    }
   ],
   "source": [
    "aa = [118, 119, 121, 122, 123]\n",
    "for a in aa:\n",
    "    c = 6.68 *(a-120)/5\n",
    "    print(\"$a =$\", a, \";, $P=$\", -st.norm.cdf(-1.96-c) + st.norm.cdf(1.96-c))"
   ]
  },
  {
   "cell_type": "code",
   "execution_count": null,
   "metadata": {},
   "outputs": [],
   "source": []
  }
 ],
 "metadata": {
  "kernelspec": {
   "display_name": "Python 3",
   "language": "python",
   "name": "python3"
  },
  "language_info": {
   "codemirror_mode": {
    "name": "ipython",
    "version": 3
   },
   "file_extension": ".py",
   "mimetype": "text/x-python",
   "name": "python",
   "nbconvert_exporter": "python",
   "pygments_lexer": "ipython3",
   "version": "3.8.5"
  }
 },
 "nbformat": 4,
 "nbformat_minor": 4
}
